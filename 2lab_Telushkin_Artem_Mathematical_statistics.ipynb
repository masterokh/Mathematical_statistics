{
  "nbformat": 4,
  "nbformat_minor": 0,
  "metadata": {
    "colab": {
      "provenance": [],
      "authorship_tag": "ABX9TyNypKRZy0St0S/R7Fl75W/x",
      "include_colab_link": true
    },
    "kernelspec": {
      "name": "python3",
      "display_name": "Python 3"
    },
    "language_info": {
      "name": "python"
    }
  },
  "cells": [
    {
      "cell_type": "markdown",
      "metadata": {
        "id": "view-in-github",
        "colab_type": "text"
      },
      "source": [
        "<a href=\"https://colab.research.google.com/github/masterokh/Mathematical_statistics/blob/main/2lab_Telushkin_Artem_Mathematical_statistics.ipynb\" target=\"_parent\"><img src=\"https://colab.research.google.com/assets/colab-badge.svg\" alt=\"Open In Colab\"/></a>"
      ]
    },
    {
      "cell_type": "markdown",
      "source": [
        "#1. Методом моментов найти оценку параметра 𝜃 равномерного распределения на [−𝜃, 𝜃].\n",
        "#Найти смещение оценки, дисперсию, среднеквадратическую ошибку. Эксперимент для\n",
        "#𝜃 = 10.\n",
        "\n",
        "Для оценки параметра 𝜃 равномерного распределения на интервале [−𝜃, 𝜃] методом моментов, мы можем использовать моменты распределения.\n",
        "\n",
        "Первый момент равномерного распределения на интервале [−𝜃, 𝜃] равен нулю:\n",
        "E(X) = 0.\n",
        "\n",
        "Второй момент определяется следующим образом:\n",
        "E(X^2) = ∫(x^2 * f(x))dx,\n",
        "где f(x) - функция плотности равномерного распределения на интервале [−𝜃, 𝜃].\n",
        "\n",
        "Для равномерного распределения на интервале [−𝜃, 𝜃], функция плотности f(x) равна:\n",
        "f(x) = 1 / (2𝜃), для −𝜃 ≤ x ≤ 𝜃,\n",
        "иначе f(x) = 0.\n",
        "\n",
        "Подставлю функцию плотности во второй момент:\n",
        "E(X^2) = ∫(x^2 * (1 / (2𝜃)))dx = (1 / (2𝜃)) * ∫(x^2)dx = (1 / (2𝜃)) * [x^3 / 3] = (𝜃^2) / 3.\n",
        "\n",
        "Теперь приравняю второй момент, вычисленный из выборки, к теоретическому второму моменту и решу уравнение относительно 𝜃.\n",
        "\n",
        "В нашем случае, когда 𝜃 = 10, теоретический второй момент равен (10^2) / 3 = 100 / 3 ≈ 33.33.\n",
        "\n",
        "Для оценки параметра 𝜃 через второй момент, решу уравнение:\n",
        "(𝑋̅^2) = (𝜃^2) / 3,\n",
        "где 𝑋̅ - выборочное среднее.\n",
        "\n",
        "Решив уравнение, получил оценку параметра 𝜃:\n",
        "𝜃̂ = √(3 * (𝑋̅^2)).\n",
        "\n",
        "Теперь рассчитаю смещение оценки, дисперсию и среднеквадратическую ошибку.\n",
        "\n",
        "Смещение (bias) оценки равно разности между математическим ожиданием оценки и истинным значением параметра:\n",
        "bias = E(𝜃̂) - 𝜃.\n",
        "\n",
        "В нашем случае, ожидаемое значение оценки равно:\n",
        "E(𝜃̂) = E(√(3 * (𝑋̅^2))) = √(3 * E((𝑋̅^2))),\n",
        "где E((𝑋̅^2)) - ожидаемое значение выборочного среднего квадрата.\n",
        "\n",
        "Ожидаемое значение выборочного среднего квадрата можно выразить через дисперсию выборки:\n",
        "E((𝑋̅^2)) = Var(𝑋̅) + E(𝑋̅)^2,\n",
        "где Var(𝑋̅) - дисперсия выборочного среднего.\n",
        "\n",
        "Для равномерного распределения на интервале [−𝜃, 𝜃] дисперсия выборочного среднего и ожидаемое значение выборочного среднего равны:\n",
        "Var(𝑋̅) = (𝜃^2) / (12 * n),\n",
        "E(𝑋̅) = 0.\n",
        "\n",
        "Таким образом, ожидаемое значение оценки равно:\n",
        "E(𝜃̂) = √(3 * ((𝜃^2) / (12 * n))).\n",
        "\n",
        "Смещение оценки будет:\n",
        "bias = E(𝜃̂) - 𝜃 = √(3 * ((𝜃^2) / (12 * n))) - 𝜃.\n",
        "\n",
        "Дисперсия оценки выражается как:\n",
        "Var(𝜃̂) = Var(√(3 * (𝑋̅^2))) = 3 * Var((𝑋̅^2)).\n",
        "\n",
        "Для равномерного распределения дисперсия выборочного среднего квадрата равна:\n",
        "Var((𝑋̅^2)) = (2 * (𝜃^4)) / (45 * n).\n",
        "\n",
        "Таким образом, дисперсия оценки равна:\n",
        "Var(𝜃̂) = 3 * Var((𝑋̅^2)) = (6 * (𝜃^4)) / (45 * n).\n",
        "\n",
        "Среднеквадратическая ошибка (MSE) оценки равна сумме квадратов смещения и дисперсии:\n",
        "MSE = bias^2 + Var(𝜃̂).\n",
        "\n",
        "Теперь можно вычислить смещение, дисперсию и среднеквадратическую ошибку для 𝜃 = 10 и любого выбранного значения n (размер выборки)."
      ],
      "metadata": {
        "id": "j_On576zhXmZ"
      }
    },
    {
      "cell_type": "code",
      "execution_count": null,
      "metadata": {
        "colab": {
          "base_uri": "https://localhost:8080/"
        },
        "id": "OnCdt8J-ed6m",
        "outputId": "c4dba62f-719a-44e2-c532-8b2ad4457831"
      },
      "outputs": [
        {
          "output_type": "stream",
          "name": "stdout",
          "text": [
            "Оценка параметра theta: 10.017270577649946\n",
            "Смещение оценки: 0.34570982585127297\n",
            "Дисперсия оценки: 24.399443673505303\n",
            "Среднеквадратическая ошибка: 24.51895895719542\n"
          ]
        }
      ],
      "source": [
        "import numpy as np\n",
        "\n",
        "# Задаем параметр равномерного распределения\n",
        "theta = 10\n",
        "\n",
        "# Генерируем выборку из равномерного распределения\n",
        "sample = np.random.uniform(-theta, theta, size=100)\n",
        "\n",
        "# Находим оценку параметра theta методом моментов через второй момент\n",
        "theta_hat = np.sqrt((3 / 100) * np.sum(sample**2))\n",
        "\n",
        "# Находим смещение оценки квадрата\n",
        "bias = (theta_hat**2 - theta**2)\n",
        "\n",
        "# Находим дисперсию оценки квадрата\n",
        "variance = np.var(sample**2) * (3 / 100)\n",
        "\n",
        "# Находим среднеквадратическую ошибку\n",
        "mse = variance + bias**2\n",
        "\n",
        "print(\"Оценка параметра theta:\", theta_hat)\n",
        "print(\"Смещение оценки:\", bias)\n",
        "print(\"Дисперсия оценки:\", variance)\n",
        "print(\"Среднеквадратическая ошибка:\", mse)\n"
      ]
    },
    {
      "cell_type": "code",
      "source": [
        "import matplotlib.pyplot as plt\n",
        "\n",
        "# Генерирую 500 выборок объема 50, 100, 500, 1000 и 2500\n",
        "n_list = [50, 100, 500, 1000, 2500]\n",
        "theta = 10\n",
        "num_trials = 500\n",
        "delta = 0.01\n",
        "counts = []\n",
        "\n",
        "for n in n_list:\n",
        "    num_outliers = 0\n",
        "    for i in range(num_trials):\n",
        "        sample = np.random.uniform(-theta, theta, size=n)\n",
        "        theta_hat = uniform_moments_method(sample)\n",
        "        if abs(theta_hat - theta) > delta:\n",
        "            num_outliers += 1\n",
        "    counts.append(num_outliers)\n",
        "\n",
        "# Визуализация результатов\n",
        "plt.plot(n_list, counts)\n",
        "plt.xlabel(\"Объем выборки\")\n",
        "plt.ylabel(\"Количество выбросов\")\n",
        "plt.show()\n"
      ],
      "metadata": {
        "colab": {
          "base_uri": "https://localhost:8080/",
          "height": 279
        },
        "id": "4rMFVQ_hPb4i",
        "outputId": "6b55594e-cd87-4bcb-e62e-34986ac53afd"
      },
      "execution_count": null,
      "outputs": [
        {
          "output_type": "display_data",
          "data": {
            "text/plain": [
              "<Figure size 432x288 with 1 Axes>"
            ],
            "image/png": "[encoded data removed]"
          },
          "metadata": {
            "needs_background": "light"
          }
        }
      ]
    },
    {
      "cell_type": "markdown",
      "source": [
        "#2. Методом моментов найти оценку квадрата масштабирующего параметра 𝜃 распределения Лапласа (сдвиг считать нулевым). Найти смещение оценки, дисперсию, среднеквадратическую ошибку. Эксперимент для 𝜃 = 0.5.\n",
        "\n",
        "Для нахождения оценки квадрата масштабирующего параметра 𝜃 распределения Лапласа методом моментов, можно использовать моменты распределения.\n",
        "\n",
        "Первый момент распределения Лапласа равен 𝜇₁ = 0, а второй момент равен 𝜇₂ = 2𝜃².\n",
        "\n",
        "Оценка параметра 𝜃² может быть найдена, приравнивая эти моменты к их выборочным аналогам. Таким образом, мы можем записать:\n",
        "\n",
        "0 = 𝜇₁' = 𝑋̅ - 𝜃²,\n",
        "\n",
        "2𝜃² = 𝜇₂' = 𝑆² + (𝑋̅ - 𝜃²)²,\n",
        "\n",
        "где 𝑋̅ - выборочное среднее, 𝑆² - выборочная дисперсия.\n",
        "\n",
        "Решая эти уравнения относительно 𝑋̅ и 𝑆², получу оценку квадрата масштабирующего параметра 𝜃².\n",
        "\n",
        "Для 𝜃 = 0.5:\n",
        "\n",
        "0 = 𝑋̅ - 0.5² = 𝑋̅ - 0.25,\n",
        "\n",
        "2 * 0.5² = 𝑆² + (𝑋̅ - 0.5²)² = 𝑆² + (𝑋̅ - 0.25)².\n",
        "\n",
        "Теперь можно использовать эти уравнения для нахождения оценки квадрата масштабирующего параметра 𝜃².\n",
        "\n",
        "Чтобы найти смещение оценки, вычислю разницу между ожидаемым значением оценки и истинным значением параметра:\n",
        "\n",
        "Смещение = Ожидаемое значение - Истинное значение.\n",
        "\n",
        "В данном случае, смещение будет равно:\n",
        "\n",
        "Смещение = 𝑋̅ - 𝜃².\n",
        "\n",
        "Дисперсия оценки может быть найдена как:\n",
        "\n",
        "Дисперсия = 𝑉𝑎𝑟(𝑆²).\n",
        "\n",
        "Среднеквадратическая ошибка (MSE) вычисляется как сумма смещения и дисперсии:\n",
        "\n",
        "MSE = Смещение² + Дисперсия.\n",
        "\n",
        "Подставив значения из оценки 𝜃², можно вычислить смещение, дисперсию и MSE для данного эксперимента."
      ],
      "metadata": {
        "id": "Rw7yJ_vKxoVK"
      }
    },
    {
      "cell_type": "code",
      "source": [
        "import numpy as np\n",
        "\n",
        "# Задам значение параметра\n",
        "theta = 0.5\n",
        "\n",
        "# Генерирую выборку из распределения Лапласа\n",
        "sample = np.random.laplace(scale=theta, size=1000)\n",
        "\n",
        "\n",
        "# Оцениваю параметр с помощью метода моментов\n",
        "theta_hat_squared = (np.mean(np.abs(sample)))**2\n",
        "\n",
        "# Вычисляю смещение оценки\n",
        "bias_squared = theta_hat_squared - theta**2\n",
        "\n",
        "# Вычисляю дисперсию оценки\n",
        "variance_squared = np.var(np.abs(sample))**2 / len(sample)\n",
        "\n",
        "# Вычисляю среднеквадратическую ошибку\n",
        "mse_squared = bias_squared**2 + variance_squared\n",
        "\n",
        "# Вывожу результаты на экран\n",
        "print(f'Оценка квадрата параметра: {theta_hat_squared}')\n",
        "print(f'Смещение оценки квадрата: {bias_squared}')\n",
        "print(f'Дисперсия оценки квадрата: {variance_squared}')\n",
        "print(f'Среднеквадратическая ошибка квадрата: {mse_squared}')\n"
      ],
      "metadata": {
        "colab": {
          "base_uri": "https://localhost:8080/"
        },
        "id": "ybOGQMgLS4lR",
        "outputId": "9667ba2d-9559-442d-e25b-090a46aa81d5"
      },
      "execution_count": null,
      "outputs": [
        {
          "output_type": "stream",
          "name": "stdout",
          "text": [
            "Оценка квадрата параметра: 0.2522829436356868\n",
            "Смещение оценки квадрата: 0.0022829436356868182\n",
            "Дисперсия оценки квадрата: 6.259083862227652e-05\n",
            "Среднеквадратическая ошибка квадрата: 6.780267026599947e-05\n"
          ]
        }
      ]
    },
    {
      "cell_type": "code",
      "source": [
        "import matplotlib.pyplot as plt\n",
        "\n",
        "# Задаю значение параметра\n",
        "theta = 0.5\n",
        "\n",
        "# Задаю объемы выборок\n",
        "n_list = [50, 100, 500, 1000, 2500]\n",
        "\n",
        "# Генерирую 500 выборок для каждого объема\n",
        "num_samples = 500\n",
        "deviations = []\n",
        "for n in n_list:\n",
        "    deviation = 0\n",
        "    for i in range(num_samples):\n",
        "        # Генерирую выборку из распределения Лапласа\n",
        "        sample = np.random.laplace(scale=theta, size=n)\n",
        "\n",
        "        # Оцениваю параметр с помощью метода моментов\n",
        "        theta_hat = np.mean(np.abs(sample))**2\n",
        "\n",
        "        # Подсчитываю количество отклонений на 0.01\n",
        "        if np.abs(theta_hat - theta**2) > 0.01:\n",
        "            deviation += 1\n",
        "    deviations.append(deviation)\n",
        "\n",
        "# Визуализирую результаты\n",
        "plt.plot(n_list, deviations)\n",
        "plt.xlabel('Объем выборки')\n",
        "plt.ylabel('Количество отклонений > 0.01')\n",
        "plt.show()\n"
      ],
      "metadata": {
        "colab": {
          "base_uri": "https://localhost:8080/",
          "height": 282
        },
        "id": "eBT5H-izS8eG",
        "outputId": "2059bf7e-e190-4c2b-9078-052bccda41b7"
      },
      "execution_count": null,
      "outputs": [
        {
          "output_type": "display_data",
          "data": {
            "text/plain": [
              "<Figure size 432x288 with 1 Axes>"
            ],
            "image/png": "[encoded data removed]"
          },
          "metadata": {
            "needs_background": "light"
          }
        }
      ]
    }
  ]
}